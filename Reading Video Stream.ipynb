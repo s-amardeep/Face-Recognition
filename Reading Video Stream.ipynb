{
 "cells": [
  {
   "cell_type": "markdown",
   "metadata": {},
   "source": [
    "# Reading a video stream from camera frame by frame"
   ]
  },
  {
   "cell_type": "code",
   "execution_count": 19,
   "metadata": {},
   "outputs": [],
   "source": [
    "import cv2"
   ]
  },
  {
   "cell_type": "code",
   "execution_count": 20,
   "metadata": {},
   "outputs": [],
   "source": [
    "cap = cv2.VideoCapture(0) # 0 is for default id of camera in our system"
   ]
  },
  {
   "cell_type": "code",
   "execution_count": 21,
   "metadata": {},
   "outputs": [],
   "source": [
    "while True:\n",
    "    ret,frame = cap.read() #This func return 2 things - return value(bool) & face which is captured\n",
    "    \n",
    "    if ret == False: # If webcam was unable to switch on\n",
    "        continue\n",
    "        \n",
    "    cv2.imshow(\"Video Frame\",frame)\n",
    "    \n",
    "    # Wait for user input - q, then this loop will stop\n",
    "    \n",
    "    key_pressed = cv2.waitKey(1) & 0xFF\n",
    "    if key_pressed == ord('q'):  # Ord is method in python which tells the ascii value of character\n",
    "        break\n",
    "        \n",
    "cap.release()\n",
    "cv2.destroyAllWindows()"
   ]
  },
  {
   "cell_type": "markdown",
   "metadata": {},
   "source": [
    "# To have a gray color scheme along with RBG\n",
    "\n",
    "while True:\n",
    "    ret,frame = cap.read() #This func return 2 things - return value(bool) & face which is captured\n",
    "    gray_frame = cv2.cvtColor(frame,cv2.COLOR_BGR2GRAY)\n",
    "    \n",
    "    if ret == False: # If webcam was unable to switch on\n",
    "        continue\n",
    "        \n",
    "    cv2.imshow(\"Video Frame\",frame)\n",
    "    CV2.imshow(\"Gray Frame\",gray_frame)\n",
    "    \n",
    "    # Wait for user input - q, then this loop will stop\n",
    "    \n",
    "    key_pressed = cv2.waitKey(1) & 0xFF\n",
    "    if key_pressed == ord('q'):  # Ord is method in python which tells the ascii value of character\n",
    "        break\n",
    "        \n",
    "        \n",
    "        \n",
    "cap.release()\n",
    "cv2.destroyAllWindows()"
   ]
  },
  {
   "cell_type": "markdown",
   "metadata": {},
   "source": [
    "# Face Detection Using HaarCascades Classifier"
   ]
  },
  {
   "cell_type": "code",
   "execution_count": null,
   "metadata": {},
   "outputs": [],
   "source": []
  }
 ],
 "metadata": {
  "kernelspec": {
   "display_name": "Python 3",
   "language": "python",
   "name": "python3"
  },
  "language_info": {
   "codemirror_mode": {
    "name": "ipython",
    "version": 3
   },
   "file_extension": ".py",
   "mimetype": "text/x-python",
   "name": "python",
   "nbconvert_exporter": "python",
   "pygments_lexer": "ipython3",
   "version": "3.7.4"
  }
 },
 "nbformat": 4,
 "nbformat_minor": 4
}
